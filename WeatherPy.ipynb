{
 "cells": [
  {
   "cell_type": "code",
   "execution_count": 3,
   "metadata": {},
   "outputs": [],
   "source": [
    " # Dependencies and Setup\n",
    "import matplotlib.pyplot as plt\n",
    "import pandas as pd\n",
    "import numpy as np\n",
    "import requests\n",
    "import time\n",
    "import openweathermapy.core as owm\n",
    "\n",
    "\n",
    "# Import API key\n",
    "from config import api_key\n",
    "\n",
    "# Incorporated citipy to determine city based on latitude and longitude\n",
    "from citipy import citipy\n",
    "\n",
    "# Output File (CSV)\n",
    "output_data_file = \"output_data/cities.csv\"\n",
    "\n",
    "# Range of latitudes and longitudes\n",
    "lat_range = (-90, 90)\n",
    "lng_range = (-180, 180)"
   ]
  },
  {
   "cell_type": "code",
   "execution_count": 4,
   "metadata": {},
   "outputs": [
    {
     "data": {
      "text/html": [
       "<div>\n",
       "<style scoped>\n",
       "    .dataframe tbody tr th:only-of-type {\n",
       "        vertical-align: middle;\n",
       "    }\n",
       "\n",
       "    .dataframe tbody tr th {\n",
       "        vertical-align: top;\n",
       "    }\n",
       "\n",
       "    .dataframe thead th {\n",
       "        text-align: right;\n",
       "    }\n",
       "</style>\n",
       "<table border=\"1\" class=\"dataframe\">\n",
       "  <thead>\n",
       "    <tr style=\"text-align: right;\">\n",
       "      <th></th>\n",
       "      <th>City</th>\n",
       "    </tr>\n",
       "  </thead>\n",
       "  <tbody>\n",
       "    <tr>\n",
       "      <th>0</th>\n",
       "      <td>yermish</td>\n",
       "    </tr>\n",
       "    <tr>\n",
       "      <th>1</th>\n",
       "      <td>atherton</td>\n",
       "    </tr>\n",
       "    <tr>\n",
       "      <th>2</th>\n",
       "      <td>omsukchan</td>\n",
       "    </tr>\n",
       "    <tr>\n",
       "      <th>3</th>\n",
       "      <td>yellowknife</td>\n",
       "    </tr>\n",
       "    <tr>\n",
       "      <th>4</th>\n",
       "      <td>puerto escondido</td>\n",
       "    </tr>\n",
       "  </tbody>\n",
       "</table>\n",
       "</div>"
      ],
      "text/plain": [
       "               City\n",
       "0           yermish\n",
       "1          atherton\n",
       "2         omsukchan\n",
       "3       yellowknife\n",
       "4  puerto escondido"
      ]
     },
     "execution_count": 4,
     "metadata": {},
     "output_type": "execute_result"
    }
   ],
   "source": [
    "lat_lngs = []\n",
    "cities = []\n",
    "\n",
    "# Create a set of random lat and lng combinations\n",
    "lats = np.random.uniform(low=-90.000, high=90.000, size=1500)\n",
    "lngs = np.random.uniform(low=-180.000, high=180.000, size=1500)\n",
    "lat_lngs = zip(lats, lngs)\n",
    "\n",
    "# Identify nearest city for each lat, lng combination\n",
    "for lat_lng in lat_lngs:\n",
    "    city = citipy.nearest_city(lat_lng[0], lat_lng[1]).city_name\n",
    "    \n",
    "    # If the city is unique, then add it to a our cities list\n",
    "    if city not in cities:\n",
    "        cities.append(city)\n",
    "\n",
    "city_df = pd.DataFrame({'City': cities})\n",
    "        \n",
    "# Set sample of 500 cities\n",
    "sample_cities = city_df.sample(500)\n",
    "sample_cities = sample_cities.reset_index(drop=True)\n",
    "sample_cities.head()\n"
   ]
  },
  {
   "cell_type": "code",
   "execution_count": 5,
   "metadata": {},
   "outputs": [],
   "source": [
    "# Starting URL for Weather Map API Call\n",
    "# url = \"http://api.openweathermap.org/data/2.5/weather?units=Imperial&APPID=\" + appid\n",
    "# api.openweathermap.org/data/2.5/weather?q={city name}"
   ]
  },
  {
   "cell_type": "code",
   "execution_count": 8,
   "metadata": {},
   "outputs": [],
   "source": [
    "#add settings\n",
    "settings = {\"units\": \"metric\", \"appid\": api_key}"
   ]
  },
  {
   "cell_type": "code",
   "execution_count": 9,
   "metadata": {},
   "outputs": [
    {
     "ename": "SyntaxError",
     "evalue": "invalid syntax (<ipython-input-9-73bccf2b6442>, line 16)",
     "output_type": "error",
     "traceback": [
      "\u001b[1;36m  File \u001b[1;32m\"<ipython-input-9-73bccf2b6442>\"\u001b[1;36m, line \u001b[1;32m16\u001b[0m\n\u001b[1;33m    current_weather = owm.get_current(?????????????, **settings)\u001b[0m\n\u001b[1;37m                                      ^\u001b[0m\n\u001b[1;31mSyntaxError\u001b[0m\u001b[1;31m:\u001b[0m invalid syntax\n"
     ]
    }
   ],
   "source": [
    "\n",
    "\n",
    "#add empty columns to data frame\n",
    "\n",
    "# sample_cities['Latitude'] = ''\n",
    "# sample_cities['Longitude'] = ''\n",
    "# sample_cities['Temperature'] = ''\n",
    "# sample_cities['Humidity'] = ''\n",
    "# sample_cities['Cloudiness'] = ''\n",
    "# sample_cities['Wind Speed'] = ''\n",
    "\n",
    "#index through list\n",
    "for index,row in sample_cities.iterrows():\n",
    "\n",
    "    #Find a way to iterate through cities column \n",
    "    current_weather = owm.get_current(?????????????, **settings)\n",
    "    sample_cities['Latitude'] = (current_weather['coord']['lat'])\n",
    "    sample_cities['Longitude'] = (current_weather['coord']['lat'])\n",
    "    sample_cities['Temperature'] = (current_weather['main']['temp'])\n",
    "    sample_cities['Humidity'] = (current_weather['main']['humidity'])\n",
    "    sample_cities['Cloudiness'] = (current_weather['clouds']['all'])\n",
    "    sample_cities['Wind Speed'] = (current_weather['wind']['speed'])\n",
    "    \n",
    "sample_cities.head()\n",
    " \n",
    "# for index,row in sample_cities.iterrows():\n",
    "#     print(sample_cities['City'])\n",
    "    \n",
    "# current_weather = owm.get_current('Paris', **settings)\n",
    "# print(current_weather)\n",
    "    \n",
    "\n",
    "# paris_df = pd.DataFrame(current_weather_paris)\n",
    "# paris_df.head()\n",
    "# for city in cities:\n",
    "#     url = \"http://api.openweathermap.org/data/2.5/weather?\"\n",
    "#     weather_response = requests.get(url)\n",
    "#     weather_json = weather_response.json()\n",
    "#     print(weather_json)"
   ]
  },
  {
   "cell_type": "code",
   "execution_count": null,
   "metadata": {},
   "outputs": [],
   "source": []
  }
 ],
 "metadata": {
  "kernelspec": {
   "display_name": "Python [conda env:anaconda3]",
   "language": "python",
   "name": "conda-env-anaconda3-py"
  },
  "language_info": {
   "codemirror_mode": {
    "name": "ipython",
    "version": 3
   },
   "file_extension": ".py",
   "mimetype": "text/x-python",
   "name": "python",
   "nbconvert_exporter": "python",
   "pygments_lexer": "ipython3",
   "version": "3.6.5"
  }
 },
 "nbformat": 4,
 "nbformat_minor": 2
}
